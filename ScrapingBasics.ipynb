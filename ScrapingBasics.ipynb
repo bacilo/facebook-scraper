{
 "cells": [
  {
   "cell_type": "markdown",
   "metadata": {},
   "source": [
    "# facebook-scraper\n",
    "This is a short introduction to using the scraper to fully scrape a public FB page\n",
    "\n",
    "## Requirements\n",
    "+ You need to register yourself as a developer on Facebook\n",
    "+ You create an App on your Facebook developer page\n",
    "+ You go to Graph Explorer to generate an Access Token with the permissions you want (I recommend getting all of them for this purpose to avoid errors later)\n",
    "\n",
    "## Notes\n",
    "You will absolutely need to introduce the ACCESS_TOKEN but APP_ID and APP_ID_SECRET are only required in order to extend your ACCESS_TOKEN. If you are fine working with a short lived ACCESS_TOKEN and renewing that ACCESS_TOKEN manually on your Facebook developers page, then you can leave APP_ID and APP_ID_SECRET empty\n",
    "\n",
    "PAGE_ID: The ID of the Public page you will scrape (for instance: '1889414787955466'). You will usually see this on the URL on your browser. Sometimes, however, a name is provided. The name WILL NOT work, you need to figure out the ID. (There are plenty of websites that do this, I use https://www.wallflux.com/facebook_id/)"
   ]
  },
  {
   "cell_type": "code",
   "execution_count": 1,
   "metadata": {
    "collapsed": true
   },
   "outputs": [],
   "source": [
    "import fb_scraper.prodcons\n",
    "\n",
    "APP_ID = ''\n",
    "APP_ID_SECRET = ''\n",
    "ACCESS_TOKEN = ''\n",
    "PAGE_ID = ''"
   ]
  },
  {
   "cell_type": "markdown",
   "metadata": {},
   "source": [
    "## Producer/Consummer Manager\n",
    "The prodcons module, builds on a Producer/Consummer multithreaded approach to issue batch requests to the FB API and process the corresponding responses, saving them to the respective .CSV files"
   ]
  },
  {
   "cell_type": "code",
   "execution_count": 2,
   "metadata": {
    "collapsed": true
   },
   "outputs": [],
   "source": [
    "mgr = fb_scraper.prodcons.Manager(\n",
    "    access_token=ACCESS_TOKEN,\n",
    "    api_key=APP_ID,\n",
    "    api_secret=APP_ID_SECRET,\n",
    "    node_id=PAGE_ID\n",
    "    )"
   ]
  },
  {
   "cell_type": "markdown",
   "metadata": {},
   "source": [
    "## Extending ACCESS_TOKEN\n",
    "(Must have APP_ID and APP_ID_SECRET setup)\n",
    "\n",
    "This function extends the ACCESS_TOKEN and automatically replaces it in the mgr object\n",
    "\n",
    "__NOTE: Copy-paste it on your application setup to start using the extended token in the future__"
   ]
  },
  {
   "cell_type": "code",
   "execution_count": 3,
   "metadata": {
    "collapsed": false
   },
   "outputs": [
    {
     "name": "stdout",
     "output_type": "stream",
     "text": [
      "EAAJhnidbqJ8BAK6L6oMqNVSptzNiC8MhvKc4Djuu86ZCZBMRoLeHJkkjVDFzltZBUZA64TZAlplDLpg4UB0GYyyMTZCzd6WB3mE2rTfsMZBqVGMTK6ICJQ5qdPPjOsyUYbkCWA8TUZB63c9MkLzDZBd1U6U2r6UZABbDnChIo6Cout1AZDZD\n"
     ]
    }
   ],
   "source": [
    "mgr.graph.extend_token()"
   ]
  },
  {
   "cell_type": "markdown",
   "metadata": {},
   "source": [
    "## Scraping\n",
    "Just call the start() function from the Manager and wait until it is completed.\n",
    "\n",
    "A line is printed to indicate how far the scraping has reached (i.e. how many posts, reactions, comments, etc... have been received and stored in the .CSV file structure)"
   ]
  },
  {
   "cell_type": "code",
   "execution_count": 3,
   "metadata": {
    "collapsed": false
   },
   "outputs": [
    {
     "name": "stderr",
     "output_type": "stream",
     "text": [
      "(run): Sending batch with 1 requests: [{'type': 'post', 'to': ''}]\n",
      "(run): total of 200 posts, 166 comments, 420 reactions, 0 attachments, 0 shares, 0 insights, 1 responses, 2 requests\n",
      "(run): Sending batch with 1 requests: [{'type': 'post', 'to': ''}]\n",
      "(run): total of 400 posts, 339 comments, 1137 reactions, 0 attachments, 0 shares, 0 insights, 2 responses, 3 requests\n",
      "(run): Sending batch with 1 requests: [{'type': 'post', 'to': ''}]\n",
      "(run): total of 445 posts, 372 comments, 1353 reactions, 0 attachments, 0 shares, 0 insights, 3 responses, 4 requests\n",
      "(run): Sending batch with 1 requests: [{'type': 'post', 'to': ''}]\n",
      "(run): total of 445 posts, 372 comments, 1353 reactions, 0 attachments, 0 shares, 0 insights, 4 responses, 4 requests\n"
     ]
    }
   ],
   "source": [
    "mgr.start()"
   ]
  }
 ],
 "metadata": {
  "kernelspec": {
   "display_name": "Python 3",
   "language": "python",
   "name": "python3"
  },
  "language_info": {
   "codemirror_mode": {
    "name": "ipython",
    "version": 3
   },
   "file_extension": ".py",
   "mimetype": "text/x-python",
   "name": "python",
   "nbconvert_exporter": "python",
   "pygments_lexer": "ipython3",
   "version": "3.6.0"
  }
 },
 "nbformat": 4,
 "nbformat_minor": 2
}
