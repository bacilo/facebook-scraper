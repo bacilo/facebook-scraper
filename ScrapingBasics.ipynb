{
 "cells": [
  {
   "cell_type": "markdown",
   "metadata": {},
   "source": [
    "# facebook-scraper\n",
    "This is a short introduction to using the scraper to fully scrape a public FB page\n",
    "\n",
    "## Requirements\n",
    "+ You need to register yourself as a developer on Facebook\n",
    "+ You create an App on your Facebook developer page\n",
    "+ You go to Graph Explorer to generate an Access Token with the permissions you want (I recommend getting all of them for this purpose to avoid errors later)\n",
    "\n",
    "## Notes\n",
    "You will absolutely need to introduce the ACCESS_TOKEN but APP_ID and APP_ID_SECRET are only required in order to extend your ACCESS_TOKEN. If you are fine working with a short lived ACCESS_TOKEN and renewing that ACCESS_TOKEN manually on your Facebook developers page, then you can leave APP_ID and APP_ID_SECRET empty\n",
    "\n",
    "PAGE_ID: The ID of the Public page you will scrape (for instance: '1889414787955466'). You will usually see this on the URL on your browser. Sometimes, however, a name is provided. The name WILL NOT work, you need to figure out the ID. (There are plenty of websites that do this, I use https://www.wallflux.com/facebook_id/)"
   ]
  },
  {
   "cell_type": "code",
   "execution_count": null,
   "metadata": {
    "collapsed": true
   },
   "outputs": [],
   "source": [
    "import fb_scraper.prodcons\n",
    "\n",
    "APP_ID = ''\n",
    "APP_ID_SECRET = ''\n",
    "ACCESS_TOKEN = ''"
   ]
  },
  {
   "cell_type": "markdown",
   "metadata": {},
   "source": [
    "## Producer/Consummer Manager\n",
    "The prodcons module, builds on a Producer/Consummer multithreaded approach to issue batch requests to the FB API and process the corresponding responses, saving them to the respective .CSV files"
   ]
  },
  {
   "cell_type": "code",
   "execution_count": null,
   "metadata": {
    "collapsed": true
   },
   "outputs": [],
   "source": [
    "mgr = fb_scraper.prodcons.Manager(\n",
    "    access_token=ACCESS_TOKEN,\n",
    "    api_key=APP_ID,\n",
    "    api_secret=APP_ID_SECRET\n",
    "    )"
   ]
  },
  {
   "cell_type": "markdown",
   "metadata": {},
   "source": [
    "## Extending ACCESS_TOKEN\n",
    "(Must have APP_ID and APP_ID_SECRET setup)\n",
    "\n",
    "This function extends the ACCESS_TOKEN and automatically replaces it in the mgr object\n",
    "\n",
    "__NOTE: Copy-paste it on your application setup to start using the extended token in the future__"
   ]
  },
  {
   "cell_type": "code",
   "execution_count": null,
   "metadata": {
    "collapsed": false
   },
   "outputs": [],
   "source": [
    "mgr.graph.extend_token()"
   ]
  },
  {
   "cell_type": "markdown",
   "metadata": {},
   "source": [
    "## Start scraping threads\n",
    "Just call the start() function from the Manager and wait until it is completed.\n",
    "\n",
    "A line is printed to indicate how far the scraping has reached (i.e. how many posts, reactions, comments, etc... have been received and stored in the .CSV file structure)"
   ]
  },
  {
   "cell_type": "code",
   "execution_count": null,
   "metadata": {
    "collapsed": false
   },
   "outputs": [],
   "source": [
    "mgr.start()"
   ]
  },
  {
   "cell_type": "markdown",
   "metadata": {},
   "source": [
    "## Add scraping jobs\n",
    "\n",
    "From the mgr object, just add the group or post (what is available at the moment) that you would like to scrape"
   ]
  },
  {
   "cell_type": "code",
   "execution_count": null,
   "metadata": {
    "collapsed": true
   },
   "outputs": [],
   "source": [
    "mgr.scrape_post('XXXXXXXXXXXXXX')  # Where 'XXXXXXXXXXXXXXX' is the FULL post ID, i.e. GROUPID_POSTID\n",
    "mgr.scrape_group('XXXXXXXXXXXXXX')  # Where 'XXXXXXXXXXXXXXX' is the Group ID"
   ]
  }
 ],
 "metadata": {
  "kernelspec": {
   "display_name": "Python 3",
   "language": "python",
   "name": "python3"
  },
  "language_info": {
   "codemirror_mode": {
    "name": "ipython",
    "version": 3
   },
   "file_extension": ".py",
   "mimetype": "text/x-python",
   "name": "python",
   "nbconvert_exporter": "python",
   "pygments_lexer": "ipython3",
   "version": "3.6.0"
  }
 },
 "nbformat": 4,
 "nbformat_minor": 2
}
